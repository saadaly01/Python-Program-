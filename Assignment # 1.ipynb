{
 "cells": [
  {
   "cell_type": "code",
   "execution_count": 5,
   "metadata": {},
   "outputs": [
    {
     "name": "stdout",
     "output_type": "stream",
     "text": [
      "Twinkle, twinkle, little star\n",
      "\t How I wonder what you are!\n",
      "\t\t Up above the world so high\n",
      "\t\t Like a diamond in the sky.\n",
      "Twinkle Twinkle, Little star,\n",
      "\t How I wonder what you are\n"
     ]
    }
   ],
   "source": [
    "print(\"Twinkle, twinkle, little star\");\n",
    "print(\"\\t How I wonder what you are!\");\n",
    "print(\"\\t\\t Up above the world so high\");\n",
    "print(\"\\t\\t Like a diamond in the sky.\");\n",
    "print(\"Twinkle Twinkle, Little star,\");\n",
    "print(\"\\t How I wonder what you are\");"
   ]
  },
  {
   "cell_type": "code",
   "execution_count": 6,
   "metadata": {},
   "outputs": [
    {
     "name": "stdout",
     "output_type": "stream",
     "text": [
      "sys.version_info(major=3, minor=7, micro=4, releaselevel='final', serial=0)\n"
     ]
    }
   ],
   "source": [
    "import sys\n",
    "print(sys.version_info)"
   ]
  },
  {
   "cell_type": "code",
   "execution_count": 7,
   "metadata": {},
   "outputs": [
    {
     "data": {
      "text/plain": [
       "True"
      ]
     },
     "execution_count": 7,
     "metadata": {},
     "output_type": "execute_result"
    }
   ],
   "source": [
    "sys.version_info>=(3,7)"
   ]
  },
  {
   "cell_type": "code",
   "execution_count": 9,
   "metadata": {},
   "outputs": [
    {
     "name": "stdout",
     "output_type": "stream",
     "text": [
      "The current date & time is: 2022-01-01 22:01:59.937479\n"
     ]
    }
   ],
   "source": [
    "import datetime\n",
    "current_dt=datetime.datetime.now()\n",
    "print(\"The current date & time is:\",current_dt)"
   ]
  },
  {
   "cell_type": "code",
   "execution_count": 10,
   "metadata": {},
   "outputs": [
    {
     "name": "stdout",
     "output_type": "stream",
     "text": [
      "Enter Radius of a circle3\n",
      "Area of circle is: 28.259999999999998\n"
     ]
    }
   ],
   "source": [
    "x=input(\"Enter Radius of a circle\")\n",
    "r=int(x);\n",
    "a=3.14*r*r\n",
    "print(\"Area of circle is:\",a)"
   ]
  },
  {
   "cell_type": "code",
   "execution_count": 13,
   "metadata": {},
   "outputs": [
    {
     "name": "stdout",
     "output_type": "stream",
     "text": [
      "Ali Syed\n"
     ]
    }
   ],
   "source": [
    "a=\" Syed\"\n",
    "b=\"Ali\"\n",
    "c=b+a\n",
    "print(c)"
   ]
  },
  {
   "cell_type": "code",
   "execution_count": 14,
   "metadata": {},
   "outputs": [
    {
     "name": "stdout",
     "output_type": "stream",
     "text": [
      "Enter First number2\n",
      "Enter Second number3\n",
      "sum is:  5\n"
     ]
    }
   ],
   "source": [
    "a=int(input(\"Enter First number\"))\n",
    "b=int(input(\"Enter Second number\"))\n",
    "add=a+b\n",
    "print(\"sum is: \",add)"
   ]
  },
  {
   "cell_type": "code",
   "execution_count": null,
   "metadata": {},
   "outputs": [],
   "source": []
  }
 ],
 "metadata": {
  "kernelspec": {
   "display_name": "Python 3",
   "language": "python",
   "name": "python3"
  },
  "language_info": {
   "codemirror_mode": {
    "name": "ipython",
    "version": 3
   },
   "file_extension": ".py",
   "mimetype": "text/x-python",
   "name": "python",
   "nbconvert_exporter": "python",
   "pygments_lexer": "ipython3",
   "version": "3.7.4"
  }
 },
 "nbformat": 4,
 "nbformat_minor": 2
}
